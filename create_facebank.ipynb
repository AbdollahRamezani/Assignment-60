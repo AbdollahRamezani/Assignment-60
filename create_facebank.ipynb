{
  "cells": [
    {
      "cell_type": "code",
      "execution_count": null,
      "metadata": {
        "id": "ZOOzJcAven3G"
      },
      "outputs": [],
      "source": [
        "!pip install -q insightface"
      ]
    },
    {
      "cell_type": "code",
      "execution_count": null,
      "metadata": {
        "id": "vRVzwXk9fprY"
      },
      "outputs": [],
      "source": [
        "!pip install -q onnxruntime"
      ]
    },
    {
      "cell_type": "code",
      "execution_count": 4,
      "metadata": {
        "id": "tIzymMU2fK8p"
      },
      "outputs": [],
      "source": [
        "import os\n",
        "import cv2\n",
        "import numpy as np\n",
        "import matplotlib.pyplot as plt\n",
        "from insightface.app import FaceAnalysis"
      ]
    },
    {
      "cell_type": "markdown",
      "metadata": {
        "id": "go1MoHLsqNr4"
      },
      "source": [
        "Create face bank"
      ]
    },
    {
      "cell_type": "code",
      "execution_count": null,
      "metadata": {
        "id": "g0fWJTNDqTdU"
      },
      "outputs": [],
      "source": [
        "app = FaceAnalysis(name=\"buffalo_s\", providers=['CUDAExecutionProvider']) \n",
        "\n",
        "app.prepare(ctx_id=0, det_size=(640, 640)) "
      ]
    },
    {
      "cell_type": "code",
      "execution_count": null,
      "metadata": {
        "id": "cag3SyK2st9p"
      },
      "outputs": [],
      "source": [
        "face_bank_path = \"/content/face_bank\"\n",
        "\n",
        "face_bank = [] \n",
        "for person_name in os.listdir(face_bank_path):\n",
        "  folder_path = os.path.join(face_bank_path, person_name)\n",
        "  if os.path.isdir(folder_path): \n",
        "    for image_name in os.listdir(folder_path):\n",
        "        image_path = os.path.join(folder_path, image_name)\n",
        "        image = cv2.imread(image_path)\n",
        "        image = cv2.cvtColor(image, cv2.COLOR_BGR2RGB)\n",
        "        result = app.get(image)\n",
        "\n",
        "        if len(result) > 1:  \n",
        "            print(\"Warning: more than one face detevted in image\")\n",
        "            continue  \n",
        "        embedding = result[0]['embedding']  \n",
        "        my_dict = {\"name\": person_name, \"embedding\": embedding}\n",
        "        face_bank.append(my_dict)\n",
        "\n",
        "np.save(\"face_bank.npy\",face_bank )  "
      ]
    }
  ],
  "metadata": {
    "accelerator": "GPU",
    "colab": {
      "gpuType": "T4",
      "provenance": []
    },
    "kernelspec": {
      "display_name": "Python 3",
      "name": "python3"
    },
    "language_info": {
      "name": "python"
    }
  },
  "nbformat": 4,
  "nbformat_minor": 0
}
